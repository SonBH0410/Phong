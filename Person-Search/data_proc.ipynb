{
 "cells": [
  {
   "cell_type": "code",
   "execution_count": 1,
   "metadata": {},
   "outputs": [],
   "source": [
    "import pandas as pd"
   ]
  },
  {
   "cell_type": "code",
   "execution_count": 2,
   "metadata": {},
   "outputs": [
    {
     "data": {
      "text/plain": [
       "Index(['Unnamed: 0', 'file_path', 'captions', 'vi_captions'], dtype='object')"
      ]
     },
     "execution_count": 2,
     "metadata": {},
     "output_type": "execute_result"
    }
   ],
   "source": [
    "cap = pd.read_csv(\"/home/phongtnh/Person-Search/IRRA/VN3K/data_captions.csv\")\n",
    "cap.keys()"
   ]
  },
  {
   "cell_type": "code",
   "execution_count": 3,
   "metadata": {},
   "outputs": [],
   "source": [
    "cap = cap.drop(columns=['Unnamed: 0'])"
   ]
  },
  {
   "cell_type": "code",
   "execution_count": 5,
   "metadata": {},
   "outputs": [],
   "source": [
    "# delele empty captions\n",
    "cap = cap[cap['captions'] != '']"
   ]
  },
  {
   "cell_type": "code",
   "execution_count": 7,
   "metadata": {},
   "outputs": [],
   "source": [
    "# change column name\n",
    "cap = cap.rename(columns={'vi_captions': 'en_captions'})"
   ]
  },
  {
   "cell_type": "code",
   "execution_count": 10,
   "metadata": {},
   "outputs": [
    {
     "data": {
      "text/html": [
       "<div>\n",
       "<style scoped>\n",
       "    .dataframe tbody tr th:only-of-type {\n",
       "        vertical-align: middle;\n",
       "    }\n",
       "\n",
       "    .dataframe tbody tr th {\n",
       "        vertical-align: top;\n",
       "    }\n",
       "\n",
       "    .dataframe thead th {\n",
       "        text-align: right;\n",
       "    }\n",
       "</style>\n",
       "<table border=\"1\" class=\"dataframe\">\n",
       "  <thead>\n",
       "    <tr style=\"text-align: right;\">\n",
       "      <th></th>\n",
       "      <th>file_path</th>\n",
       "      <th>captions</th>\n",
       "      <th>en_captions</th>\n",
       "    </tr>\n",
       "  </thead>\n",
       "  <tbody>\n",
       "    <tr>\n",
       "      <th>0</th>\n",
       "      <td>TEST_DATA/Person1.2/output_2.jpg</td>\n",
       "      <td>['Người đàn ông tóc cắt ngắn, mặc áo phông màu...</td>\n",
       "      <td>['The man had short hair, wore a light gray T-...</td>\n",
       "    </tr>\n",
       "    <tr>\n",
       "      <th>1</th>\n",
       "      <td>TEST_DATA/Person1.2/output_6.jpg</td>\n",
       "      <td>['Một nam thanh niên vẻ mặt tươi tắn, đi đôi g...</td>\n",
       "      <td>['A bright - faced young man, wearing red - la...</td>\n",
       "    </tr>\n",
       "    <tr>\n",
       "      <th>2</th>\n",
       "      <td>TEST_DATA/Person1.2/output_9.jpg</td>\n",
       "      <td>['Một cậu thanh niên trẻ tuổi, mặc bộ quần áo ...</td>\n",
       "      <td>['A young man, dressed in gray clothes, short-...</td>\n",
       "    </tr>\n",
       "    <tr>\n",
       "      <th>3</th>\n",
       "      <td>TRAINNING_DATA/Person1/output_2.jpg</td>\n",
       "      <td>['Một cậu con trai mặc bộ đồ màu xám, chiếc áo...</td>\n",
       "      <td>['A boy wears a gray suit, a short - sleeved T...</td>\n",
       "    </tr>\n",
       "    <tr>\n",
       "      <th>4</th>\n",
       "      <td>TRAINNING_DATA/Person1/output_6.jpg</td>\n",
       "      <td>['Một nam thanh niên, tóc ngắn, mặc áo ngắn ta...</td>\n",
       "      <td>['A young man, short hair, wearing a gray shor...</td>\n",
       "    </tr>\n",
       "    <tr>\n",
       "      <th>...</th>\n",
       "      <td>...</td>\n",
       "      <td>...</td>\n",
       "      <td>...</td>\n",
       "    </tr>\n",
       "    <tr>\n",
       "      <th>6297</th>\n",
       "      <td>DANgoc_01/02998_2.jpg</td>\n",
       "      <td>['Một cô gái có mái tóc màu đen, mặc áo phông ...</td>\n",
       "      <td>['A girl with black hair, wearing a white T - ...</td>\n",
       "    </tr>\n",
       "    <tr>\n",
       "      <th>6298</th>\n",
       "      <td>DANgoc_01/02999_1.jpg</td>\n",
       "      <td>['Một cô gais có mái tóc màu đen, mặc áo phông...</td>\n",
       "      <td>['A Gais has black hair, wears a white T - shi...</td>\n",
       "    </tr>\n",
       "    <tr>\n",
       "      <th>6299</th>\n",
       "      <td>DANgoc_01/02999_2.jpg</td>\n",
       "      <td>['Một cô gais có mái tóc màu đen, mặc áo phông...</td>\n",
       "      <td>['A Gais has black hair, wears a white T - shi...</td>\n",
       "    </tr>\n",
       "    <tr>\n",
       "      <th>6300</th>\n",
       "      <td>DANgoc_01/03000_1.jpg</td>\n",
       "      <td>['Một người phụ nữ có mái tóc màu đen, mặc áo ...</td>\n",
       "      <td>['A woman with black hair, wearing a brown T -...</td>\n",
       "    </tr>\n",
       "    <tr>\n",
       "      <th>6301</th>\n",
       "      <td>DANgoc_01/03000_2.jpg</td>\n",
       "      <td>['Một cô gái có mái tóc màu đen, mặc áo phông ...</td>\n",
       "      <td>['A girl with black hair, wearing a brown roun...</td>\n",
       "    </tr>\n",
       "  </tbody>\n",
       "</table>\n",
       "<p>6302 rows × 3 columns</p>\n",
       "</div>"
      ],
      "text/plain": [
       "                                file_path  \\\n",
       "0        TEST_DATA/Person1.2/output_2.jpg   \n",
       "1        TEST_DATA/Person1.2/output_6.jpg   \n",
       "2        TEST_DATA/Person1.2/output_9.jpg   \n",
       "3     TRAINNING_DATA/Person1/output_2.jpg   \n",
       "4     TRAINNING_DATA/Person1/output_6.jpg   \n",
       "...                                   ...   \n",
       "6297                DANgoc_01/02998_2.jpg   \n",
       "6298                DANgoc_01/02999_1.jpg   \n",
       "6299                DANgoc_01/02999_2.jpg   \n",
       "6300                DANgoc_01/03000_1.jpg   \n",
       "6301                DANgoc_01/03000_2.jpg   \n",
       "\n",
       "                                               captions  \\\n",
       "0     ['Người đàn ông tóc cắt ngắn, mặc áo phông màu...   \n",
       "1     ['Một nam thanh niên vẻ mặt tươi tắn, đi đôi g...   \n",
       "2     ['Một cậu thanh niên trẻ tuổi, mặc bộ quần áo ...   \n",
       "3     ['Một cậu con trai mặc bộ đồ màu xám, chiếc áo...   \n",
       "4     ['Một nam thanh niên, tóc ngắn, mặc áo ngắn ta...   \n",
       "...                                                 ...   \n",
       "6297  ['Một cô gái có mái tóc màu đen, mặc áo phông ...   \n",
       "6298  ['Một cô gais có mái tóc màu đen, mặc áo phông...   \n",
       "6299  ['Một cô gais có mái tóc màu đen, mặc áo phông...   \n",
       "6300  ['Một người phụ nữ có mái tóc màu đen, mặc áo ...   \n",
       "6301  ['Một cô gái có mái tóc màu đen, mặc áo phông ...   \n",
       "\n",
       "                                            en_captions  \n",
       "0     ['The man had short hair, wore a light gray T-...  \n",
       "1     ['A bright - faced young man, wearing red - la...  \n",
       "2     ['A young man, dressed in gray clothes, short-...  \n",
       "3     ['A boy wears a gray suit, a short - sleeved T...  \n",
       "4     ['A young man, short hair, wearing a gray shor...  \n",
       "...                                                 ...  \n",
       "6297  ['A girl with black hair, wearing a white T - ...  \n",
       "6298  ['A Gais has black hair, wears a white T - shi...  \n",
       "6299  ['A Gais has black hair, wears a white T - shi...  \n",
       "6300  ['A woman with black hair, wearing a brown T -...  \n",
       "6301  ['A girl with black hair, wearing a brown roun...  \n",
       "\n",
       "[6302 rows x 3 columns]"
      ]
     },
     "execution_count": 10,
     "metadata": {},
     "output_type": "execute_result"
    }
   ],
   "source": [
    "cap"
   ]
  },
  {
   "cell_type": "code",
   "execution_count": 11,
   "metadata": {},
   "outputs": [],
   "source": [
    "# export to json\n",
    "cap.to_json('/home/phongtnh/Person-Search/IRRA/VN3K/data_captions.json', orient='records', force_ascii=False)"
   ]
  },
  {
   "cell_type": "code",
   "execution_count": 13,
   "metadata": {},
   "outputs": [],
   "source": [
    "import json\n",
    "\n",
    "data = json.load(open('/home/phongtnh/Person-Search/IRRA/VN3K/data_captions.json'))"
   ]
  },
  {
   "cell_type": "code",
   "execution_count": 17,
   "metadata": {},
   "outputs": [
    {
     "data": {
      "text/plain": [
       "{'file_path': 'TEST_DATA/Person1.2/output_2.jpg',\n",
       " 'captions': \"['Người đàn ông tóc cắt ngắn, mặc áo phông màu xám nhạt có chữ màu đỏ trên ngực áo, quần màu xám nhạt, và đi đôi giày thể thao màu đen với dây giày màu đỏ.', 'Người đàn ông dáng đi vai hơi gù, mặc bộ quần áo màu xám nhạt, sải bước chân rộng với đôi giày màu đen thắt dây màu đỏ.']\",\n",
       " 'en_captions': \"['The man had short hair, wore a light gray T-shirt with red letters on the chest, light gray pants, and black sneakers with red shoelaces.', 'The man was hunched - shouldered, dressed in light gray clothes, with a wide stride and black shoes with red laces.']\"}"
      ]
     },
     "execution_count": 17,
     "metadata": {},
     "output_type": "execute_result"
    }
   ],
   "source": [
    "data[0]"
   ]
  },
  {
   "cell_type": "code",
   "execution_count": 1,
   "metadata": {},
   "outputs": [],
   "source": [
    "import ast\n",
    "import json"
   ]
  },
  {
   "cell_type": "code",
   "execution_count": 4,
   "metadata": {},
   "outputs": [],
   "source": [
    "f = open('/home/phongtnh/Person-Search/IRRA/VN3K/data_captions.json', 'r')\n",
    "data = json.loads(f.read())"
   ]
  },
  {
   "cell_type": "code",
   "execution_count": 11,
   "metadata": {},
   "outputs": [],
   "source": []
  },
  {
   "cell_type": "code",
   "execution_count": null,
   "metadata": {},
   "outputs": [],
   "source": []
  }
 ],
 "metadata": {
  "kernelspec": {
   "display_name": "person_search",
   "language": "python",
   "name": "python3"
  },
  "language_info": {
   "codemirror_mode": {
    "name": "ipython",
    "version": 3
   },
   "file_extension": ".py",
   "mimetype": "text/x-python",
   "name": "python",
   "nbconvert_exporter": "python",
   "pygments_lexer": "ipython3",
   "version": "3.11.4"
  },
  "orig_nbformat": 4
 },
 "nbformat": 4,
 "nbformat_minor": 2
}
